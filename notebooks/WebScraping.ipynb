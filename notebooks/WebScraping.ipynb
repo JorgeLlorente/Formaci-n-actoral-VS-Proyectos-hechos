{
 "cells": [
  {
   "cell_type": "code",
   "execution_count": 403,
   "metadata": {},
   "outputs": [],
   "source": [
    "import pandas as pd\n",
    "import numpy as numpy\n",
    "from geotext import GeoText\n",
    "import re\n",
    "from bs4 import BeautifulSoup\n",
    "from time import sleep\n",
    "from selenium import webdriver\n",
    "from webdriver_manager.chrome import ChromeDriverManager\n",
    "from selenium.webdriver.common.keys import Keys\n",
    "from selenium.webdriver.chrome.options import Options\n",
    "from selenium.common.exceptions import NoSuchElementException\n",
    "from selenium.webdriver.common.by import By\n",
    "from selenium.webdriver.support.ui import WebDriverWait\n",
    "from selenium.webdriver.support import expected_conditions\n",
    "from selenium.common.exceptions import ElementClickInterceptedException\n",
    "from selenium.common.exceptions import ElementNotInteractableException\n",
    "\n",
    "import spacy\n",
    "\n",
    "import itertools\n",
    "import requests\n",
    "\n",
    "import gender_guesser.detector as gender\n",
    "\n",
    "import warnings\n",
    "warnings.filterwarnings('ignore')"
   ]
  },
  {
   "attachments": {},
   "cell_type": "markdown",
   "metadata": {},
   "source": [
    "#### Borial Management"
   ]
  },
  {
   "cell_type": "code",
   "execution_count": 89,
   "metadata": {},
   "outputs": [],
   "source": [
    "url = \"https://borialmanagement.com/\"\n",
    "res1 = requests.get(url)\n",
    "sopa = BeautifulSoup(res1.content, 'html.parser')\n",
    "tags = sopa.find_all(\"h4\", {\"class\": \"personName toBold\"})"
   ]
  },
  {
   "cell_type": "code",
   "execution_count": 90,
   "metadata": {},
   "outputs": [],
   "source": [
    "actores = []\n",
    "for tag in tags:\n",
    "    actores.append(tag.text)"
   ]
  },
  {
   "cell_type": "code",
   "execution_count": 91,
   "metadata": {},
   "outputs": [],
   "source": [
    "actores.remove('GONZALO FERNГЃNDEZ')\n",
    "actores.remove('VГЌCTOR CASTILLO')\n",
    "actores.remove('ГЃLVARO QUINTANA')\n",
    "actores.remove('CARLA DГЌAZ')\n",
    "actores.remove('MARIO GARCГЌA')\n",
    "actores.remove('SANTI MARГЌN')\n",
    "actores.remove('ГЃLVARO FONTALBA')"
   ]
  },
  {
   "cell_type": "code",
   "execution_count": 92,
   "metadata": {},
   "outputs": [],
   "source": [
    "actores2 = []\n",
    "for actor in actores:\n",
    "    if len(re.findall(\"\\W\", actor)) > 1:\n",
    "        pass\n",
    "    else:\n",
    "        actores2.append(actor)"
   ]
  },
  {
   "cell_type": "code",
   "execution_count": 93,
   "metadata": {},
   "outputs": [],
   "source": [
    "actores3 = []\n",
    "for actor in actores2:\n",
    "    actores3.append(actor.split())"
   ]
  },
  {
   "cell_type": "code",
   "execution_count": 94,
   "metadata": {},
   "outputs": [],
   "source": [
    "d = gender.Detector()\n",
    "\n",
    "nombres_por_genero = {\"masculino\": [], \"femenino\": []}\n",
    "\n",
    "for nombre in actores3:\n",
    "    nombre_completo = nombre[0].capitalize() + nombre[1].capitalize()\n",
    "    genero = d.get_gender(nombre[0].capitalize())\n",
    "    if genero == \"male\":\n",
    "        nombres_por_genero[\"masculino\"].append(nombre_completo)\n",
    "    elif genero == \"female\":\n",
    "        nombres_por_genero[\"femenino\"].append(nombre_completo)"
   ]
  },
  {
   "cell_type": "code",
   "execution_count": 8,
   "metadata": {},
   "outputs": [
    {
     "name": "stdout",
     "output_type": "stream",
     "text": [
      "0\n",
      "1\n",
      "2\n",
      "3\n",
      "4\n",
      "5\n",
      "6\n",
      "7\n",
      "8\n",
      "9\n",
      "10\n",
      "11\n",
      "12\n",
      "13\n",
      "0\n",
      "1\n",
      "2\n",
      "3\n",
      "0\n",
      "1\n",
      "2\n",
      "3\n",
      "4\n",
      "5\n",
      "6\n",
      "7\n",
      "8\n",
      "9\n",
      "10\n",
      "11\n",
      "12\n",
      "0\n",
      "1\n",
      "2\n",
      "3\n",
      "4\n",
      "5\n",
      "6\n",
      "7\n",
      "8\n",
      "9\n",
      "0\n",
      "1\n",
      "2\n",
      "3\n",
      "4\n",
      "5\n",
      "6\n",
      "7\n",
      "8\n",
      "9\n",
      "10\n",
      "11\n",
      "12\n",
      "13\n",
      "14\n"
     ]
    }
   ],
   "source": [
    "opciones= Options()\n",
    "opciones.add_experimental_option('excludeSwitches', ['enable-automation'])\n",
    "#para ocultarme como robot\n",
    "opciones.add_experimental_option('useAutomationExtension', False)\n",
    "opciones.add_argument('--start-maximized') #empezar maximizado\n",
    "opciones.add_argument('user.data-dir=selenium') #guarda las cookies\n",
    "opciones.add_argument('--incognito')#incognito window\n",
    "\n",
    "dicc = {\"actor\": [], \"formacion\": []}\n",
    "\n",
    "for k, v in nombres_por_genero.items():\n",
    "    if k == \"masculino\":\n",
    "        for k in range(len(v)):\n",
    "            url = f\"https://borialmanagement.com/actores/{nombres_por_genero['masculino'][k]}\"\n",
    "            driver = webdriver.Chrome(ChromeDriverManager().install())\n",
    "            driver.get(url)\n",
    "            driver.implicitly_wait(10)\n",
    "            resultado = driver.find_element(\"css selector\", \"body > div:nth-child(3) > div > div:nth-child(2) > div\").text\n",
    "            resultado = resultado.split(\"\\n\")\n",
    "            if resultado[1] == \"FORMACIÓN\":\n",
    "                artista = resultado[0].lower()\n",
    "                resultado.pop(0)\n",
    "                resultado.pop(0)\n",
    "                i = 0\n",
    "                while resultado[i] != \"TELEVISIÓN\":\n",
    "                    dicc[\"formacion\"].append(resultado[i])\n",
    "                    dicc[\"actor\"].append(artista)\n",
    "                    i+=1\n",
    "            else:\n",
    "                dicc[\"formacion\"].append(\"no hay formación\")\n",
    "                dicc[\"actor\"].append(artista)\n",
    "    else:\n",
    "        for k in range(len(v)):\n",
    "            url = f\"https://borialmanagement.com/actrices/{nombres_por_genero['femenino'][k]}\"\n",
    "            driver = webdriver.Chrome(ChromeDriverManager().install())\n",
    "            driver.get(url)\n",
    "            driver.implicitly_wait(10)\n",
    "            resultado = driver.find_element(\"css selector\", \"body > div:nth-child(3) > div > div:nth-child(2) > div\").text\n",
    "            resultado = resultado.split(\"\\n\")\n",
    "            if resultado[1] == \"FORMACIÓN\":\n",
    "                artista = resultado[0].lower()\n",
    "                resultado.pop(0)\n",
    "                resultado.pop(0)\n",
    "                i = 0\n",
    "                while (resultado[i] != \"TELEVISIÓN\") and (resultado[i] != \"TEATRO\") and (resultado[i] != \"CINE\"):\n",
    "                    print(i)\n",
    "                    dicc[\"formacion\"].append(resultado[i])\n",
    "                    dicc[\"actor\"].append(artista)\n",
    "                    i+=1\n",
    "            else:\n",
    "                dicc[\"formacion\"].append(\"no hay formación\")\n",
    "                dicc[\"actor\"].append(artista)"
   ]
  },
  {
   "cell_type": "code",
   "execution_count": 9,
   "metadata": {},
   "outputs": [],
   "source": [
    "df_borial = pd.DataFrame(dicc)"
   ]
  },
  {
   "cell_type": "code",
   "execution_count": 37,
   "metadata": {},
   "outputs": [],
   "source": [
    "def extraer_ciudad(texto):\n",
    "    if type(texto) != str:\n",
    "        pass\n",
    "    else:\n",
    "        return GeoText(texto).cities"
   ]
  },
  {
   "cell_type": "code",
   "execution_count": 61,
   "metadata": {},
   "outputs": [],
   "source": [
    "df_borial[\"ciudad\"] = df_borial[\"formacion\"].apply(extraer_ciudad)"
   ]
  },
  {
   "cell_type": "code",
   "execution_count": 41,
   "metadata": {},
   "outputs": [],
   "source": [
    "def nombres(texto):\n",
    "    if type(texto) != str:\n",
    "        pass\n",
    "    else:\n",
    "        patron = r'[A-ZÁÉÍÓÚÑ][a-záéíóúñ]+\\s[A-ZÁÉÍÓÚÑ][a-záéíóúñ]+'\n",
    "        return re.findall(patron, texto)"
   ]
  },
  {
   "cell_type": "code",
   "execution_count": 202,
   "metadata": {},
   "outputs": [],
   "source": [
    "def sininfo(valor):\n",
    "    if valor is None:\n",
    "        return \"no hay info\"\n",
    "    elif isinstance(valor, list) and len(valor) > 0:\n",
    "        return valor[0]\n",
    "    elif len(valor) == 0:\n",
    "        return \"no hay info\"\n",
    "    else:\n",
    "        return valor"
   ]
  },
  {
   "cell_type": "code",
   "execution_count": 151,
   "metadata": {},
   "outputs": [],
   "source": [
    "df_borial[\"nombres\"] = df_borial[\"formacion\"].apply(nombres)"
   ]
  },
  {
   "cell_type": "code",
   "execution_count": 160,
   "metadata": {},
   "outputs": [],
   "source": [
    "df_borial = df_borial.explode(\"nombres\")"
   ]
  },
  {
   "cell_type": "code",
   "execution_count": 163,
   "metadata": {},
   "outputs": [],
   "source": [
    "df_borial.to_csv(\"../data/borial_data\")"
   ]
  },
  {
   "cell_type": "code",
   "execution_count": 200,
   "metadata": {},
   "outputs": [],
   "source": [
    "df_borial = pd.read_csv(\"../data/borial_data\", index_col=0)"
   ]
  },
  {
   "cell_type": "code",
   "execution_count": 203,
   "metadata": {},
   "outputs": [],
   "source": [
    "df_borial[\"ciudad\"] = df_borial[\"ciudad\"].apply(sininfo)"
   ]
  },
  {
   "cell_type": "code",
   "execution_count": 217,
   "metadata": {},
   "outputs": [],
   "source": [
    "def lista(x):\n",
    "    if type(x) == list:\n",
    "        return str(x[0])\n",
    "    else:\n",
    "        return x"
   ]
  },
  {
   "cell_type": "code",
   "execution_count": 218,
   "metadata": {},
   "outputs": [],
   "source": [
    "df_borial[\"ciudad\"] = df_borial[\"ciudad\"].apply(lista)"
   ]
  },
  {
   "cell_type": "code",
   "execution_count": 223,
   "metadata": {},
   "outputs": [
    {
     "data": {
      "text/html": [
       "<div>\n",
       "<style scoped>\n",
       "    .dataframe tbody tr th:only-of-type {\n",
       "        vertical-align: middle;\n",
       "    }\n",
       "\n",
       "    .dataframe tbody tr th {\n",
       "        vertical-align: top;\n",
       "    }\n",
       "\n",
       "    .dataframe thead th {\n",
       "        text-align: right;\n",
       "    }\n",
       "</style>\n",
       "<table border=\"1\" class=\"dataframe\">\n",
       "  <thead>\n",
       "    <tr style=\"text-align: right;\">\n",
       "      <th></th>\n",
       "      <th>actor</th>\n",
       "      <th>formacion</th>\n",
       "      <th>ciudad</th>\n",
       "      <th>nombres</th>\n",
       "    </tr>\n",
       "  </thead>\n",
       "  <tbody>\n",
       "    <tr>\n",
       "      <th>0</th>\n",
       "      <td>daniel albaladejo</td>\n",
       "      <td>Licenciado en Interpretación por la E.S.A.D. d...</td>\n",
       "      <td>['Murcia']</td>\n",
       "      <td>NaN</td>\n",
       "    </tr>\n",
       "    <tr>\n",
       "      <th>1</th>\n",
       "      <td>daniel albaladejo</td>\n",
       "      <td>Cursos de perfeccionamiento con:</td>\n",
       "      <td>[]</td>\n",
       "      <td>NaN</td>\n",
       "    </tr>\n",
       "    <tr>\n",
       "      <th>2</th>\n",
       "      <td>daniel albaladejo</td>\n",
       "      <td>Vicente Fuentes (Siglo de Oro).</td>\n",
       "      <td>[]</td>\n",
       "      <td>Vicente Fuentes</td>\n",
       "    </tr>\n",
       "    <tr>\n",
       "      <th>3</th>\n",
       "      <td>daniel albaladejo</td>\n",
       "      <td>Will Keen (Shakespeare).</td>\n",
       "      <td>[]</td>\n",
       "      <td>Will Keen</td>\n",
       "    </tr>\n",
       "    <tr>\n",
       "      <th>4</th>\n",
       "      <td>daniel albaladejo</td>\n",
       "      <td>Francisco Torres Monreal (Teatro Contemporáneo).</td>\n",
       "      <td>[]</td>\n",
       "      <td>Francisco Torres</td>\n",
       "    </tr>\n",
       "    <tr>\n",
       "      <th>4</th>\n",
       "      <td>daniel albaladejo</td>\n",
       "      <td>Francisco Torres Monreal (Teatro Contemporáneo).</td>\n",
       "      <td>[]</td>\n",
       "      <td>Teatro Contemporáneo</td>\n",
       "    </tr>\n",
       "    <tr>\n",
       "      <th>5</th>\n",
       "      <td>daniel albaladejo</td>\n",
       "      <td>Norman Taylor (Expresión Dramática y Movimiento).</td>\n",
       "      <td>[]</td>\n",
       "      <td>Norman Taylor</td>\n",
       "    </tr>\n",
       "    <tr>\n",
       "      <th>5</th>\n",
       "      <td>daniel albaladejo</td>\n",
       "      <td>Norman Taylor (Expresión Dramática y Movimiento).</td>\n",
       "      <td>[]</td>\n",
       "      <td>Expresión Dramática</td>\n",
       "    </tr>\n",
       "    <tr>\n",
       "      <th>6</th>\n",
       "      <td>daniel albaladejo</td>\n",
       "      <td>Antón Valén (Técnicas de Clown y Bufón).</td>\n",
       "      <td>[]</td>\n",
       "      <td>Antón Valén</td>\n",
       "    </tr>\n",
       "    <tr>\n",
       "      <th>7</th>\n",
       "      <td>enrique asenjo</td>\n",
       "      <td>Dramaturgia Teatral, impartido por Sanchís Sin...</td>\n",
       "      <td>[]</td>\n",
       "      <td>Dramaturgia Teatral</td>\n",
       "    </tr>\n",
       "    <tr>\n",
       "      <th>7</th>\n",
       "      <td>enrique asenjo</td>\n",
       "      <td>Dramaturgia Teatral, impartido por Sanchís Sin...</td>\n",
       "      <td>[]</td>\n",
       "      <td>Sanchís Sinisterra</td>\n",
       "    </tr>\n",
       "    <tr>\n",
       "      <th>8</th>\n",
       "      <td>enrique asenjo</td>\n",
       "      <td>Interpretación ante la cámara, impartido por M...</td>\n",
       "      <td>[]</td>\n",
       "      <td>Mariano Barroso</td>\n",
       "    </tr>\n",
       "    <tr>\n",
       "      <th>9</th>\n",
       "      <td>enrique asenjo</td>\n",
       "      <td>Seminario de interpretación, impartido por Raq...</td>\n",
       "      <td>[]</td>\n",
       "      <td>Raquel Pérez</td>\n",
       "    </tr>\n",
       "    <tr>\n",
       "      <th>10</th>\n",
       "      <td>enrique asenjo</td>\n",
       "      <td>Dramaturgia Teatral, impartido por Mauricio Ka...</td>\n",
       "      <td>[]</td>\n",
       "      <td>Dramaturgia Teatral</td>\n",
       "    </tr>\n",
       "    <tr>\n",
       "      <th>10</th>\n",
       "      <td>enrique asenjo</td>\n",
       "      <td>Dramaturgia Teatral, impartido por Mauricio Ka...</td>\n",
       "      <td>[]</td>\n",
       "      <td>Mauricio Kartún</td>\n",
       "    </tr>\n",
       "    <tr>\n",
       "      <th>11</th>\n",
       "      <td>enrique asenjo</td>\n",
       "      <td>Dramaturgia Teatral, impartido por Eduardo Rec...</td>\n",
       "      <td>[]</td>\n",
       "      <td>Dramaturgia Teatral</td>\n",
       "    </tr>\n",
       "    <tr>\n",
       "      <th>11</th>\n",
       "      <td>enrique asenjo</td>\n",
       "      <td>Dramaturgia Teatral, impartido por Eduardo Rec...</td>\n",
       "      <td>[]</td>\n",
       "      <td>Eduardo Recabarren</td>\n",
       "    </tr>\n",
       "    <tr>\n",
       "      <th>12</th>\n",
       "      <td>enrique asenjo</td>\n",
       "      <td>Dramaturgia Teatral, impartido por Bernardo Ka...</td>\n",
       "      <td>[]</td>\n",
       "      <td>Dramaturgia Teatral</td>\n",
       "    </tr>\n",
       "    <tr>\n",
       "      <th>12</th>\n",
       "      <td>enrique asenjo</td>\n",
       "      <td>Dramaturgia Teatral, impartido por Bernardo Ka...</td>\n",
       "      <td>[]</td>\n",
       "      <td>Bernardo Kappa</td>\n",
       "    </tr>\n",
       "    <tr>\n",
       "      <th>13</th>\n",
       "      <td>enrique asenjo</td>\n",
       "      <td>Comedia del arte, impartido por Adriano Urisse...</td>\n",
       "      <td>[]</td>\n",
       "      <td>Adriano Urissevich</td>\n",
       "    </tr>\n",
       "  </tbody>\n",
       "</table>\n",
       "</div>"
      ],
      "text/plain": [
       "                actor                                          formacion  \\\n",
       "0   daniel albaladejo  Licenciado en Interpretación por la E.S.A.D. d...   \n",
       "1   daniel albaladejo                   Cursos de perfeccionamiento con:   \n",
       "2   daniel albaladejo                    Vicente Fuentes (Siglo de Oro).   \n",
       "3   daniel albaladejo                           Will Keen (Shakespeare).   \n",
       "4   daniel albaladejo   Francisco Torres Monreal (Teatro Contemporáneo).   \n",
       "4   daniel albaladejo   Francisco Torres Monreal (Teatro Contemporáneo).   \n",
       "5   daniel albaladejo  Norman Taylor (Expresión Dramática y Movimiento).   \n",
       "5   daniel albaladejo  Norman Taylor (Expresión Dramática y Movimiento).   \n",
       "6   daniel albaladejo           Antón Valén (Técnicas de Clown y Bufón).   \n",
       "7      enrique asenjo  Dramaturgia Teatral, impartido por Sanchís Sin...   \n",
       "7      enrique asenjo  Dramaturgia Teatral, impartido por Sanchís Sin...   \n",
       "8      enrique asenjo  Interpretación ante la cámara, impartido por M...   \n",
       "9      enrique asenjo  Seminario de interpretación, impartido por Raq...   \n",
       "10     enrique asenjo  Dramaturgia Teatral, impartido por Mauricio Ka...   \n",
       "10     enrique asenjo  Dramaturgia Teatral, impartido por Mauricio Ka...   \n",
       "11     enrique asenjo  Dramaturgia Teatral, impartido por Eduardo Rec...   \n",
       "11     enrique asenjo  Dramaturgia Teatral, impartido por Eduardo Rec...   \n",
       "12     enrique asenjo  Dramaturgia Teatral, impartido por Bernardo Ka...   \n",
       "12     enrique asenjo  Dramaturgia Teatral, impartido por Bernardo Ka...   \n",
       "13     enrique asenjo  Comedia del arte, impartido por Adriano Urisse...   \n",
       "\n",
       "        ciudad               nombres  \n",
       "0   ['Murcia']                   NaN  \n",
       "1           []                   NaN  \n",
       "2           []       Vicente Fuentes  \n",
       "3           []             Will Keen  \n",
       "4           []      Francisco Torres  \n",
       "4           []  Teatro Contemporáneo  \n",
       "5           []         Norman Taylor  \n",
       "5           []   Expresión Dramática  \n",
       "6           []           Antón Valén  \n",
       "7           []   Dramaturgia Teatral  \n",
       "7           []    Sanchís Sinisterra  \n",
       "8           []       Mariano Barroso  \n",
       "9           []          Raquel Pérez  \n",
       "10          []   Dramaturgia Teatral  \n",
       "10          []       Mauricio Kartún  \n",
       "11          []   Dramaturgia Teatral  \n",
       "11          []    Eduardo Recabarren  \n",
       "12          []   Dramaturgia Teatral  \n",
       "12          []        Bernardo Kappa  \n",
       "13          []    Adriano Urissevich  "
      ]
     },
     "execution_count": 223,
     "metadata": {},
     "output_type": "execute_result"
    }
   ],
   "source": [
    "df_borial.head(20)"
   ]
  },
  {
   "cell_type": "code",
   "execution_count": 224,
   "metadata": {},
   "outputs": [],
   "source": [
    "df_borial['nº formaciones'] = df_borial['actor'].apply(lambda x: df_borial[df_borial['actor'] == x]['actor'].value_counts().values[0])"
   ]
  },
  {
   "cell_type": "code",
   "execution_count": 231,
   "metadata": {},
   "outputs": [],
   "source": [
    "df_borial.drop(\"formacion\", axis=1, inplace=True)"
   ]
  },
  {
   "cell_type": "code",
   "execution_count": 237,
   "metadata": {},
   "outputs": [],
   "source": [
    "df_borial.to_csv(\"../data/borial_data_good.csv\")"
   ]
  },
  {
   "attachments": {},
   "cell_type": "markdown",
   "metadata": {},
   "source": [
    "#### Única Representaciones"
   ]
  },
  {
   "cell_type": "code",
   "execution_count": 95,
   "metadata": {},
   "outputs": [],
   "source": [
    "url = \"https://www.unicarepresentaciones.com/Actores\"\n",
    "res1 = requests.get(url)\n",
    "sopa = BeautifulSoup(res1.content, 'html.parser')\n",
    "tags = sopa.find_all(\"div\", {\"class\": \"views-field views-field-title\"})"
   ]
  },
  {
   "cell_type": "code",
   "execution_count": 96,
   "metadata": {},
   "outputs": [],
   "source": [
    "h_unica = []\n",
    "for tag in tags:\n",
    "    h_unica.append(tag.text)"
   ]
  },
  {
   "cell_type": "code",
   "execution_count": 97,
   "metadata": {},
   "outputs": [],
   "source": [
    "url = \"https://www.unicarepresentaciones.com/Actrices\"\n",
    "res1 = requests.get(url)\n",
    "sopa = BeautifulSoup(res1.content, 'html.parser')\n",
    "tags = sopa.find_all(\"div\", {\"class\": \"views-field views-field-title\"})"
   ]
  },
  {
   "cell_type": "code",
   "execution_count": 98,
   "metadata": {},
   "outputs": [],
   "source": [
    "m_unica = []\n",
    "for tag in tags:\n",
    "    m_unica.append(tag.text)"
   ]
  },
  {
   "cell_type": "code",
   "execution_count": 99,
   "metadata": {},
   "outputs": [],
   "source": [
    "actores_unica = h_unica+m_unica"
   ]
  },
  {
   "cell_type": "code",
   "execution_count": 100,
   "metadata": {},
   "outputs": [],
   "source": [
    "h_unica_scrap = []\n",
    "for actor in (h_unica):\n",
    "    h_unica_scrap.append(actor.strip().replace(\" \", \"-\").lower())"
   ]
  },
  {
   "cell_type": "code",
   "execution_count": 101,
   "metadata": {},
   "outputs": [],
   "source": [
    "m_unica_scrap = []\n",
    "for actriz in (m_unica):\n",
    "    m_unica_scrap.append(actriz.strip().replace(\" \", \"-\").lower())"
   ]
  },
  {
   "cell_type": "code",
   "execution_count": 102,
   "metadata": {},
   "outputs": [],
   "source": [
    "unica_scrap = h_unica_scrap+m_unica_scrap"
   ]
  },
  {
   "cell_type": "code",
   "execution_count": 172,
   "metadata": {},
   "outputs": [],
   "source": [
    "opciones= Options()\n",
    "opciones.add_experimental_option('excludeSwitches', ['enable-automation'])\n",
    "opciones.add_experimental_option('useAutomationExtension', False)\n",
    "opciones.add_argument('--start-maximized')\n",
    "opciones.add_argument('user.data-dir=selenium')\n",
    "opciones.add_argument('--incognito')\n",
    "\n",
    "dicc = {\"actor\": [], \"formacion\": []}\n",
    "\n",
    "for actor in unica_scrap:\n",
    "    try:\n",
    "        url = f\"https://www.unicarepresentaciones.com/actores-actrices/{actor}\"\n",
    "        driver = webdriver.Chrome(ChromeDriverManager().install())\n",
    "        driver.get(url)\n",
    "        driver.implicitly_wait(10)\n",
    "        cv = driver.find_element(\"css selector\", \"#block-system-main > div > div.ficha-actores > div.ficha-col-1\").text\n",
    "        elementos = cv.split(\"\\n\")\n",
    "        elementos.pop(0)\n",
    "        elementos = [i.strip() for i in elementos]\n",
    "        if \"Formación\" not in elementos:\n",
    "            pass\n",
    "        else:\n",
    "            indice_formacion = elementos.index(\"Formación\") + 1\n",
    "            lista_formacion = elementos[indice_formacion:]\n",
    "\n",
    "            dicc[\"actor\"].append(actor)\n",
    "            dicc[\"formacion\"].append(lista_formacion)\n",
    "    except NoSuchElementException:\n",
    "        driver.close()"
   ]
  },
  {
   "cell_type": "code",
   "execution_count": 180,
   "metadata": {},
   "outputs": [],
   "source": [
    "df_unica = pd.DataFrame(dicc)"
   ]
  },
  {
   "cell_type": "code",
   "execution_count": 181,
   "metadata": {},
   "outputs": [],
   "source": [
    "df_unica = df_unica.explode('formacion')"
   ]
  },
  {
   "cell_type": "code",
   "execution_count": 177,
   "metadata": {},
   "outputs": [],
   "source": [
    "df_unica.to_csv(\"../data/unica_data_raw\")"
   ]
  },
  {
   "cell_type": "code",
   "execution_count": 170,
   "metadata": {},
   "outputs": [],
   "source": [
    "df_unica = pd.read_csv(\"../data/unica_data_raw\", index_col=0)"
   ]
  },
  {
   "cell_type": "code",
   "execution_count": 171,
   "metadata": {},
   "outputs": [],
   "source": [
    "df_unica[\"ciudad\"] = df_unica[\"formacion\"].apply(extraer_ciudad)"
   ]
  },
  {
   "cell_type": "code",
   "execution_count": 173,
   "metadata": {},
   "outputs": [],
   "source": [
    "df_unica[\"nombres\"] = df_unica[\"formacion\"].apply(nombres)"
   ]
  },
  {
   "cell_type": "code",
   "execution_count": 174,
   "metadata": {},
   "outputs": [],
   "source": [
    "df_unica['nº formaciones'] = df_unica['actor'].apply(lambda x: df_unica[df_unica['actor'] == x]['actor'].value_counts().values[0])"
   ]
  },
  {
   "cell_type": "code",
   "execution_count": 175,
   "metadata": {},
   "outputs": [],
   "source": [
    "df_unica = df_unica.explode(\"nombres\")"
   ]
  },
  {
   "cell_type": "code",
   "execution_count": 180,
   "metadata": {},
   "outputs": [],
   "source": [
    "df_unica['ciudad'] = df_unica['ciudad'].apply(sininfo)"
   ]
  },
  {
   "cell_type": "code",
   "execution_count": 234,
   "metadata": {},
   "outputs": [],
   "source": [
    "df_unica.drop(\"formacion\", axis=1, inplace=True)"
   ]
  },
  {
   "cell_type": "code",
   "execution_count": 236,
   "metadata": {},
   "outputs": [],
   "source": [
    "df_unica.to_csv(\"../data/unica_data_good.csv\")"
   ]
  },
  {
   "cell_type": "code",
   "execution_count": 434,
   "metadata": {},
   "outputs": [
    {
     "data": {
      "text/html": [
       "<div>\n",
       "<style scoped>\n",
       "    .dataframe tbody tr th:only-of-type {\n",
       "        vertical-align: middle;\n",
       "    }\n",
       "\n",
       "    .dataframe tbody tr th {\n",
       "        vertical-align: top;\n",
       "    }\n",
       "\n",
       "    .dataframe thead th {\n",
       "        text-align: right;\n",
       "    }\n",
       "</style>\n",
       "<table border=\"1\" class=\"dataframe\">\n",
       "  <thead>\n",
       "    <tr style=\"text-align: right;\">\n",
       "      <th></th>\n",
       "      <th>actor</th>\n",
       "      <th>ciudad</th>\n",
       "      <th>nombres</th>\n",
       "      <th>nº formaciones</th>\n",
       "      <th>representante</th>\n",
       "    </tr>\n",
       "  </thead>\n",
       "  <tbody>\n",
       "    <tr>\n",
       "      <th>0</th>\n",
       "      <td>daniel albaladejo</td>\n",
       "      <td>['Murcia']</td>\n",
       "      <td>NaN</td>\n",
       "      <td>9</td>\n",
       "      <td>Borial Management</td>\n",
       "    </tr>\n",
       "    <tr>\n",
       "      <th>1</th>\n",
       "      <td>daniel albaladejo</td>\n",
       "      <td>[]</td>\n",
       "      <td>NaN</td>\n",
       "      <td>9</td>\n",
       "      <td>Borial Management</td>\n",
       "    </tr>\n",
       "    <tr>\n",
       "      <th>2</th>\n",
       "      <td>daniel albaladejo</td>\n",
       "      <td>[]</td>\n",
       "      <td>Vicente Fuentes</td>\n",
       "      <td>9</td>\n",
       "      <td>Borial Management</td>\n",
       "    </tr>\n",
       "    <tr>\n",
       "      <th>3</th>\n",
       "      <td>daniel albaladejo</td>\n",
       "      <td>[]</td>\n",
       "      <td>Will Keen</td>\n",
       "      <td>9</td>\n",
       "      <td>Borial Management</td>\n",
       "    </tr>\n",
       "    <tr>\n",
       "      <th>4</th>\n",
       "      <td>daniel albaladejo</td>\n",
       "      <td>[]</td>\n",
       "      <td>Francisco Torres</td>\n",
       "      <td>9</td>\n",
       "      <td>Borial Management</td>\n",
       "    </tr>\n",
       "    <tr>\n",
       "      <th>...</th>\n",
       "      <td>...</td>\n",
       "      <td>...</td>\n",
       "      <td>...</td>\n",
       "      <td>...</td>\n",
       "      <td>...</td>\n",
       "    </tr>\n",
       "    <tr>\n",
       "      <th>998</th>\n",
       "      <td>mar-vidal</td>\n",
       "      <td>no hay info</td>\n",
       "      <td>NaN</td>\n",
       "      <td>20</td>\n",
       "      <td>Única Representaciones</td>\n",
       "    </tr>\n",
       "    <tr>\n",
       "      <th>999</th>\n",
       "      <td>mar-vidal</td>\n",
       "      <td>no hay info</td>\n",
       "      <td>NaN</td>\n",
       "      <td>20</td>\n",
       "      <td>Única Representaciones</td>\n",
       "    </tr>\n",
       "    <tr>\n",
       "      <th>1000</th>\n",
       "      <td>mar-vidal</td>\n",
       "      <td>Cartagena</td>\n",
       "      <td>NaN</td>\n",
       "      <td>20</td>\n",
       "      <td>Única Representaciones</td>\n",
       "    </tr>\n",
       "    <tr>\n",
       "      <th>1001</th>\n",
       "      <td>mar-vidal</td>\n",
       "      <td>no hay info</td>\n",
       "      <td>NaN</td>\n",
       "      <td>20</td>\n",
       "      <td>Única Representaciones</td>\n",
       "    </tr>\n",
       "    <tr>\n",
       "      <th>1002</th>\n",
       "      <td>mar-vidal</td>\n",
       "      <td>Cartagena</td>\n",
       "      <td>Improvisación Francisco</td>\n",
       "      <td>20</td>\n",
       "      <td>Única Representaciones</td>\n",
       "    </tr>\n",
       "  </tbody>\n",
       "</table>\n",
       "<p>1003 rows × 5 columns</p>\n",
       "</div>"
      ],
      "text/plain": [
       "                  actor       ciudad                  nombres  nº formaciones  \\\n",
       "0     daniel albaladejo   ['Murcia']                      NaN               9   \n",
       "1     daniel albaladejo           []                      NaN               9   \n",
       "2     daniel albaladejo           []          Vicente Fuentes               9   \n",
       "3     daniel albaladejo           []                Will Keen               9   \n",
       "4     daniel albaladejo           []         Francisco Torres               9   \n",
       "...                 ...          ...                      ...             ...   \n",
       "998           mar-vidal  no hay info                      NaN              20   \n",
       "999           mar-vidal  no hay info                      NaN              20   \n",
       "1000          mar-vidal    Cartagena                      NaN              20   \n",
       "1001          mar-vidal  no hay info                      NaN              20   \n",
       "1002          mar-vidal    Cartagena  Improvisación Francisco              20   \n",
       "\n",
       "               representante  \n",
       "0          Borial Management  \n",
       "1          Borial Management  \n",
       "2          Borial Management  \n",
       "3          Borial Management  \n",
       "4          Borial Management  \n",
       "...                      ...  \n",
       "998   Única Representaciones  \n",
       "999   Única Representaciones  \n",
       "1000  Única Representaciones  \n",
       "1001  Única Representaciones  \n",
       "1002  Única Representaciones  \n",
       "\n",
       "[1003 rows x 5 columns]"
      ]
     },
     "execution_count": 434,
     "metadata": {},
     "output_type": "execute_result"
    }
   ],
   "source": [
    "df_a = pd.read_csv(\"../data/borial_data_good.csv\", index_col=0)\n",
    "df_a[\"representante\"] = \"Borial Management\"\n",
    "df_b =pd.read_csv(\"../data/unica_data_good.csv\", index_col=0)\n",
    "df_b[\"representante\"] = \"Única Representaciones\"\n",
    "df = pd.concat([df_a, df_b], ignore_index=True)"
   ]
  },
  {
   "cell_type": "code",
   "execution_count": 416,
   "metadata": {},
   "outputs": [],
   "source": [
    "df = pd.read_csv(\"../data/repre_data.csv\", index_col=0)"
   ]
  },
  {
   "cell_type": "code",
   "execution_count": 436,
   "metadata": {},
   "outputs": [],
   "source": [
    "df.drop([\"nº formaciones\"], axis=1, inplace=True)"
   ]
  },
  {
   "cell_type": "code",
   "execution_count": 437,
   "metadata": {},
   "outputs": [],
   "source": [
    "df.to_csv(\"../data/repre_data.csv\")"
   ]
  },
  {
   "cell_type": "code",
   "execution_count": 420,
   "metadata": {},
   "outputs": [],
   "source": [
    "df_formaciones = df.drop([\"ciudad\", \"nombres\"], axis=1)"
   ]
  },
  {
   "cell_type": "code",
   "execution_count": 425,
   "metadata": {},
   "outputs": [],
   "source": [
    "df_formaciones.drop_duplicates(keep='first', inplace=True)"
   ]
  },
  {
   "cell_type": "code",
   "execution_count": 426,
   "metadata": {},
   "outputs": [],
   "source": [
    "df_formaciones.to_csv(\"../data/formaciones.csv\")"
   ]
  },
  {
   "attachments": {},
   "cell_type": "markdown",
   "metadata": {},
   "source": [
    "#### Listado IMDB"
   ]
  },
  {
   "cell_type": "code",
   "execution_count": 253,
   "metadata": {},
   "outputs": [
    {
     "data": {
      "text/plain": [
       "75"
      ]
     },
     "execution_count": 253,
     "metadata": {},
     "output_type": "execute_result"
    }
   ],
   "source": [
    "listado_actores = actores2 + actores_unica\n",
    "len(listado_actores)"
   ]
  },
  {
   "cell_type": "code",
   "execution_count": 397,
   "metadata": {},
   "outputs": [
    {
     "name": "stderr",
     "output_type": "stream",
     "text": [
      "[WDM] - Downloading: 100%|██████████| 6.80M/6.80M [00:01<00:00, 4.36MB/s]\n"
     ]
    },
    {
     "ename": "ElementNotInteractableException",
     "evalue": "Message: element not interactable\n  (Session info: chrome=112.0.5615.86)\nStacktrace:\nBacktrace:\n\tGetHandleVerifier [0x00CADCE3+50899]\n\t(No symbol) [0x00C3E111]\n\t(No symbol) [0x00B45450]\n\t(No symbol) [0x00B71846]\n\t(No symbol) [0x00B694A5]\n\t(No symbol) [0x00B8B8FC]\n\t(No symbol) [0x00B68EC6]\n\t(No symbol) [0x00B8BC54]\n\t(No symbol) [0x00B9E01C]\n\t(No symbol) [0x00B8B6F6]\n\t(No symbol) [0x00B67708]\n\t(No symbol) [0x00B6886D]\n\tGetHandleVerifier [0x00F13EAE+2566302]\n\tGetHandleVerifier [0x00F492B1+2784417]\n\tGetHandleVerifier [0x00F4327C+2759788]\n\tGetHandleVerifier [0x00D45740+672048]\n\t(No symbol) [0x00C48872]\n\t(No symbol) [0x00C441C8]\n\t(No symbol) [0x00C442AB]\n\t(No symbol) [0x00C371B7]\n\tBaseThreadInitThunk [0x75F37D69+25]\n\tRtlInitializeExceptionChain [0x7707B74B+107]\n\tRtlClearBits [0x7707B6CF+191]\n",
     "output_type": "error",
     "traceback": [
      "\u001b[1;31m---------------------------------------------------------------------------\u001b[0m",
      "\u001b[1;31mElementNotInteractableException\u001b[0m           Traceback (most recent call last)",
      "\u001b[1;32mc:\\Users\\jorge\\OneDrive\\Escritorio\\IronHack\\Work\\Actors-Analysis\\notebooks\\web_scraping_bueno.ipynb Cell 55\u001b[0m in \u001b[0;36m2\n\u001b[0;32m     <a href='vscode-notebook-cell:/c%3A/Users/jorge/OneDrive/Escritorio/IronHack/Work/Actors-Analysis/notebooks/web_scraping_bueno.ipynb#Y206sZmlsZQ%3D%3D?line=21'>22</a>\u001b[0m driver\u001b[39m.\u001b[39mimplicitly_wait(\u001b[39m10\u001b[39m)\n\u001b[0;32m     <a href='vscode-notebook-cell:/c%3A/Users/jorge/OneDrive/Escritorio/IronHack/Work/Actors-Analysis/notebooks/web_scraping_bueno.ipynb#Y206sZmlsZQ%3D%3D?line=22'>23</a>\u001b[0m sleep(\u001b[39m5\u001b[39m)\n\u001b[1;32m---> <a href='vscode-notebook-cell:/c%3A/Users/jorge/OneDrive/Escritorio/IronHack/Work/Actors-Analysis/notebooks/web_scraping_bueno.ipynb#Y206sZmlsZQ%3D%3D?line=23'>24</a>\u001b[0m driver\u001b[39m.\u001b[39;49mfind_element(\u001b[39m\"\u001b[39;49m\u001b[39mcss selector\u001b[39;49m\u001b[39m\"\u001b[39;49m, \u001b[39m\"\u001b[39;49m\u001b[39m#iconContext-expand-more\u001b[39;49m\u001b[39m\"\u001b[39;49m)\u001b[39m.\u001b[39;49mclick()\n\u001b[0;32m     <a href='vscode-notebook-cell:/c%3A/Users/jorge/OneDrive/Escritorio/IronHack/Work/Actors-Analysis/notebooks/web_scraping_bueno.ipynb#Y206sZmlsZQ%3D%3D?line=24'>25</a>\u001b[0m driver\u001b[39m.\u001b[39mimplicitly_wait(\u001b[39m10\u001b[39m)\n\u001b[0;32m     <a href='vscode-notebook-cell:/c%3A/Users/jorge/OneDrive/Escritorio/IronHack/Work/Actors-Analysis/notebooks/web_scraping_bueno.ipynb#Y206sZmlsZQ%3D%3D?line=25'>26</a>\u001b[0m conteo\u001b[39m+\u001b[39m\u001b[39m=\u001b[39m\u001b[39m1\u001b[39m\n",
      "File \u001b[1;32mc:\\Users\\jorge\\anaconda3\\envs\\Ironhack\\lib\\site-packages\\selenium\\webdriver\\remote\\webelement.py:93\u001b[0m, in \u001b[0;36mWebElement.click\u001b[1;34m(self)\u001b[0m\n\u001b[0;32m     91\u001b[0m \u001b[39mdef\u001b[39;00m \u001b[39mclick\u001b[39m(\u001b[39mself\u001b[39m) \u001b[39m-\u001b[39m\u001b[39m>\u001b[39m \u001b[39mNone\u001b[39;00m:\n\u001b[0;32m     92\u001b[0m \u001b[39m    \u001b[39m\u001b[39m\"\"\"Clicks the element.\"\"\"\u001b[39;00m\n\u001b[1;32m---> 93\u001b[0m     \u001b[39mself\u001b[39;49m\u001b[39m.\u001b[39;49m_execute(Command\u001b[39m.\u001b[39;49mCLICK_ELEMENT)\n",
      "File \u001b[1;32mc:\\Users\\jorge\\anaconda3\\envs\\Ironhack\\lib\\site-packages\\selenium\\webdriver\\remote\\webelement.py:410\u001b[0m, in \u001b[0;36mWebElement._execute\u001b[1;34m(self, command, params)\u001b[0m\n\u001b[0;32m    408\u001b[0m     params \u001b[39m=\u001b[39m {}\n\u001b[0;32m    409\u001b[0m params[\u001b[39m\"\u001b[39m\u001b[39mid\u001b[39m\u001b[39m\"\u001b[39m] \u001b[39m=\u001b[39m \u001b[39mself\u001b[39m\u001b[39m.\u001b[39m_id\n\u001b[1;32m--> 410\u001b[0m \u001b[39mreturn\u001b[39;00m \u001b[39mself\u001b[39;49m\u001b[39m.\u001b[39;49m_parent\u001b[39m.\u001b[39;49mexecute(command, params)\n",
      "File \u001b[1;32mc:\\Users\\jorge\\anaconda3\\envs\\Ironhack\\lib\\site-packages\\selenium\\webdriver\\remote\\webdriver.py:444\u001b[0m, in \u001b[0;36mWebDriver.execute\u001b[1;34m(self, driver_command, params)\u001b[0m\n\u001b[0;32m    442\u001b[0m response \u001b[39m=\u001b[39m \u001b[39mself\u001b[39m\u001b[39m.\u001b[39mcommand_executor\u001b[39m.\u001b[39mexecute(driver_command, params)\n\u001b[0;32m    443\u001b[0m \u001b[39mif\u001b[39;00m response:\n\u001b[1;32m--> 444\u001b[0m     \u001b[39mself\u001b[39;49m\u001b[39m.\u001b[39;49merror_handler\u001b[39m.\u001b[39;49mcheck_response(response)\n\u001b[0;32m    445\u001b[0m     response[\u001b[39m\"\u001b[39m\u001b[39mvalue\u001b[39m\u001b[39m\"\u001b[39m] \u001b[39m=\u001b[39m \u001b[39mself\u001b[39m\u001b[39m.\u001b[39m_unwrap_value(response\u001b[39m.\u001b[39mget(\u001b[39m\"\u001b[39m\u001b[39mvalue\u001b[39m\u001b[39m\"\u001b[39m, \u001b[39mNone\u001b[39;00m))\n\u001b[0;32m    446\u001b[0m     \u001b[39mreturn\u001b[39;00m response\n",
      "File \u001b[1;32mc:\\Users\\jorge\\anaconda3\\envs\\Ironhack\\lib\\site-packages\\selenium\\webdriver\\remote\\errorhandler.py:249\u001b[0m, in \u001b[0;36mErrorHandler.check_response\u001b[1;34m(self, response)\u001b[0m\n\u001b[0;32m    247\u001b[0m         alert_text \u001b[39m=\u001b[39m value[\u001b[39m\"\u001b[39m\u001b[39malert\u001b[39m\u001b[39m\"\u001b[39m]\u001b[39m.\u001b[39mget(\u001b[39m\"\u001b[39m\u001b[39mtext\u001b[39m\u001b[39m\"\u001b[39m)\n\u001b[0;32m    248\u001b[0m     \u001b[39mraise\u001b[39;00m exception_class(message, screen, stacktrace, alert_text)  \u001b[39m# type: ignore[call-arg]  # mypy is not smart enough here\u001b[39;00m\n\u001b[1;32m--> 249\u001b[0m \u001b[39mraise\u001b[39;00m exception_class(message, screen, stacktrace)\n",
      "\u001b[1;31mElementNotInteractableException\u001b[0m: Message: element not interactable\n  (Session info: chrome=112.0.5615.86)\nStacktrace:\nBacktrace:\n\tGetHandleVerifier [0x00CADCE3+50899]\n\t(No symbol) [0x00C3E111]\n\t(No symbol) [0x00B45450]\n\t(No symbol) [0x00B71846]\n\t(No symbol) [0x00B694A5]\n\t(No symbol) [0x00B8B8FC]\n\t(No symbol) [0x00B68EC6]\n\t(No symbol) [0x00B8BC54]\n\t(No symbol) [0x00B9E01C]\n\t(No symbol) [0x00B8B6F6]\n\t(No symbol) [0x00B67708]\n\t(No symbol) [0x00B6886D]\n\tGetHandleVerifier [0x00F13EAE+2566302]\n\tGetHandleVerifier [0x00F492B1+2784417]\n\tGetHandleVerifier [0x00F4327C+2759788]\n\tGetHandleVerifier [0x00D45740+672048]\n\t(No symbol) [0x00C48872]\n\t(No symbol) [0x00C441C8]\n\t(No symbol) [0x00C442AB]\n\t(No symbol) [0x00C371B7]\n\tBaseThreadInitThunk [0x75F37D69+25]\n\tRtlInitializeExceptionChain [0x7707B74B+107]\n\tRtlClearBits [0x7707B6CF+191]\n"
     ]
    }
   ],
   "source": [
    "opciones= Options()\n",
    "opciones.add_experimental_option('excludeSwitches', ['enable-automation'])\n",
    "opciones.add_experimental_option('useAutomationExtension', False)\n",
    "opciones.add_argument('--start-maximized')\n",
    "opciones.add_argument('user.data-dir=selenium')\n",
    "opciones.add_argument('--incognito')\n",
    "\n",
    "dicc = {\"actor\": [], \"titulo\": [], \"tipo\": [], \"año\": [], \"episodios\": []}\n",
    "\n",
    "desplazamiento = [2400, 2500, 2600, 2700, 2800, 2900]\n",
    "for actor in listado_actores:\n",
    "    url = \"https://www.imdb.com/?ref_=nv_home\"\n",
    "    driver = webdriver.Chrome(ChromeDriverManager().install())\n",
    "    driver.get(url)\n",
    "    driver.implicitly_wait(10)\n",
    "    element = driver.find_element(\"css selector\", \"#suggestion-search\").send_keys(actor)\n",
    "    driver.find_element(\"css selector\", \"#react-autowhatever-navSuggestionSearch--item-0 > a > div.sc-fEXmlR.iAJXhE > div.sc-bjfHbI.fOUGiO.searchResult__constTitle\").click()\n",
    "    driver.implicitly_wait(10)\n",
    "    for i in desplazamiento:\n",
    "        try:\n",
    "            driver.execute_script(f\"window.scrollTo(0, {i})\")\n",
    "            driver.implicitly_wait(10)\n",
    "            sleep(5)\n",
    "            driver.find_element(\"css selector\", \"#iconContext-expand-more\").click()\n",
    "            driver.implicitly_wait(10)\n",
    "            conteo+=1\n",
    "            num_titulos = driver.find_element(\"css selector\", \"#__next > main > div > section.ipc-page-background.ipc-page-background--base.sc-f9e7f53-0.ifXVtO > div > section > div > div.sc-414674b4-1.gWfYnM.ipc-page-grid__item.ipc-page-grid__item--span-2 > div.celwidget > section:nth-child(2) > div.sc-4390696d-3.dVbZNr > div.ipc-accordion.sc-3aa8a953-0.bVYxxN.date-credits-accordion.ipc-accordion--base.ipc-accordion--dividers-none.ipc-accordion--pageSection > div > div.ipc-accordion__item__header.ipc-accordion__item__header--sticky > label > span.ipc-accordion__item__title > ul > li.ipc-inline-list__item.credits-total\").text\n",
    "            num_titulos = int(num_titulos)\n",
    "            for i in range(1, num_titulos):\n",
    "                dicc[\"actor\"].append(actor)\n",
    "                dicc[\"titulo\"].append(driver.find_element(\"css selector\",f\"#__next > main > div > section.ipc-page-background.ipc-page-background--base.sc-f9e7f53-0.ifXVtO > div > section > div > div.sc-414674b4-1.gWfYnM.ipc-page-grid__item.ipc-page-grid__item--span-2 > div.celwidget > section:nth-child(2) > div.sc-4390696d-3.dVbZNr > div.ipc-accordion.sc-3aa8a953-0.bVYxxN.date-credits-accordion.ipc-accordion--base.ipc-accordion--dividers-none.ipc-accordion--pageSection > div > div.ipc-accordion__item__content > div > ul > li:nth-child({i}) > div.ipc-metadata-list-summary-item__c > div.ipc-metadata-list-summary-item__tc > a\").text)\n",
    "                try:\n",
    "                    dicc[\"episodios\"].append(driver.find_element(\"css selector\",f\"#__next > main > div > section.ipc-page-background.ipc-page-background--base.sc-f9e7f53-0.ifXVtO > div > section > div > div.sc-414674b4-1.gWfYnM.ipc-page-grid__item.ipc-page-grid__item--span-2 > div.celwidget > section:nth-child(2) > div.sc-4390696d-3.dVbZNr > div.ipc-accordion.sc-3aa8a953-0.bVYxxN.date-credits-accordion.ipc-accordion--base.ipc-accordion--dividers-none.ipc-accordion--pageSection > div > div.ipc-accordion__item__content > div > ul > li:nth-child({i}) > div.ipc-metadata-list-summary-item__c > div.ipc-metadata-list-summary-item__cc > ul.ipc-inline-list.ipc-inline-list--show-dividers.ipc-inline-list--no-wrap.ipc-inline-list--inline.ipc-metadata-list-summary-item__cbl.base > li > button\").text)\n",
    "                    dicc[\"año\"].append(driver.find_element(\"css selector\",f\"#__next > main > div > section.ipc-page-background.ipc-page-background--base.sc-f9e7f53-0.ifXVtO > div > section > div > div.sc-414674b4-1.gWfYnM.ipc-page-grid__item.ipc-page-grid__item--span-2 > div.celwidget > section:nth-child(2) > div.sc-4390696d-3.dVbZNr > div.ipc-accordion.sc-3aa8a953-0.bVYxxN.date-credits-accordion.ipc-accordion--base.ipc-accordion--dividers-none.ipc-accordion--pageSection > div > div.ipc-accordion__item__content > div > ul > li:nth-child({i}) > div.ipc-metadata-list-summary-item__c > div.ipc-metadata-list-summary-item__cc > ul.ipc-inline-list.ipc-inline-list--show-dividers.ipc-inline-list--no-wrap.ipc-inline-list--inline.ipc-metadata-list-summary-item__ctl.base > li > span\").text)\n",
    "                except NoSuchElementException:\n",
    "                    dicc[\"año\"].append(driver.find_element(\"css selector\",f\"#__next > main > div > section.ipc-page-background.ipc-page-background--base.sc-f9e7f53-0.ifXVtO > div > section > div > div.sc-414674b4-1.gWfYnM.ipc-page-grid__item.ipc-page-grid__item--span-2 > div.celwidget > section:nth-child(2) > div.sc-4390696d-3.dVbZNr > div.ipc-accordion.sc-3aa8a953-0.bVYxxN.date-credits-accordion.ipc-accordion--base.ipc-accordion--dividers-none.ipc-accordion--pageSection > div > div.ipc-accordion__item__content > div > ul > li:nth-child({i}) > div.ipc-metadata-list-summary-item__c > div.ipc-metadata-list-summary-item__cc > ul > li > span\").text)\n",
    "                    dicc[\"episodios\"].append(\"no hay info\")\n",
    "                try:\n",
    "                    dicc[\"tipo\"].append(driver.find_element(\"css selector\",f\"#__next > main > div > section.ipc-page-background.ipc-page-background--base.sc-f9e7f53-0.ifXVtO > div > section > div > div.sc-414674b4-1.gWfYnM.ipc-page-grid__item.ipc-page-grid__item--span-2 > div.celwidget > section:nth-child(2) > div.sc-4390696d-3.dVbZNr > div.ipc-accordion.sc-3aa8a953-0.bVYxxN.date-credits-accordion.ipc-accordion--base.ipc-accordion--dividers-none.ipc-accordion--pageSection > div > div.ipc-accordion__item__content > div > ul > li:nth-child({i}) > div.ipc-metadata-list-summary-item__c > div.ipc-metadata-list-summary-item__tc > ul.ipc-inline-list.ipc-inline-list--show-dividers.ipc-inline-list--no-wrap.ipc-inline-list--inline.ipc-metadata-list-summary-item__stl.base\").text)\n",
    "                except NoSuchElementException:\n",
    "                    dicc[\"tipo\"].append(\"no hay info\")\n",
    "\n",
    "        except (ElementClickInterceptedException, NoSuchElementException, ElementNotInteractableException):\n",
    "            pass"
   ]
  },
  {
   "cell_type": "code",
   "execution_count": 399,
   "metadata": {},
   "outputs": [
    {
     "data": {
      "text/html": [
       "<div>\n",
       "<style scoped>\n",
       "    .dataframe tbody tr th:only-of-type {\n",
       "        vertical-align: middle;\n",
       "    }\n",
       "\n",
       "    .dataframe tbody tr th {\n",
       "        vertical-align: top;\n",
       "    }\n",
       "\n",
       "    .dataframe thead th {\n",
       "        text-align: right;\n",
       "    }\n",
       "</style>\n",
       "<table border=\"1\" class=\"dataframe\">\n",
       "  <thead>\n",
       "    <tr style=\"text-align: right;\">\n",
       "      <th></th>\n",
       "      <th>actor</th>\n",
       "      <th>titulo</th>\n",
       "      <th>tipo</th>\n",
       "      <th>año</th>\n",
       "      <th>episodios</th>\n",
       "    </tr>\n",
       "  </thead>\n",
       "  <tbody>\n",
       "    <tr>\n",
       "      <th>0</th>\n",
       "      <td>DANIEL ALBALADEJO</td>\n",
       "      <td>Alumbramiento</td>\n",
       "      <td>Corto</td>\n",
       "      <td>2022</td>\n",
       "      <td>no hay info</td>\n",
       "    </tr>\n",
       "    <tr>\n",
       "      <th>1</th>\n",
       "      <td>DANIEL ALBALADEJO</td>\n",
       "      <td>La noche más larga</td>\n",
       "      <td>Miniserie de TV</td>\n",
       "      <td>2022</td>\n",
       "      <td>6 episodios</td>\n",
       "    </tr>\n",
       "    <tr>\n",
       "      <th>2</th>\n",
       "      <td>DANIEL ALBALADEJO</td>\n",
       "      <td>Cinco estrellas</td>\n",
       "      <td>Corto</td>\n",
       "      <td>2021</td>\n",
       "      <td>no hay info</td>\n",
       "    </tr>\n",
       "    <tr>\n",
       "      <th>3</th>\n",
       "      <td>DANIEL ALBALADEJO</td>\n",
       "      <td>El Cid</td>\n",
       "      <td>Serie de TV</td>\n",
       "      <td>2020–2021</td>\n",
       "      <td>10 episodios</td>\n",
       "    </tr>\n",
       "    <tr>\n",
       "      <th>4</th>\n",
       "      <td>DANIEL ALBALADEJO</td>\n",
       "      <td>Oculto</td>\n",
       "      <td>Corto</td>\n",
       "      <td>2021</td>\n",
       "      <td>no hay info</td>\n",
       "    </tr>\n",
       "    <tr>\n",
       "      <th>...</th>\n",
       "      <td>...</td>\n",
       "      <td>...</td>\n",
       "      <td>...</td>\n",
       "      <td>...</td>\n",
       "      <td>...</td>\n",
       "    </tr>\n",
       "    <tr>\n",
       "      <th>754</th>\n",
       "      <td>Juanma Cifuentes</td>\n",
       "      <td>Menos es más</td>\n",
       "      <td>no hay info</td>\n",
       "      <td>2000</td>\n",
       "      <td>no hay info</td>\n",
       "    </tr>\n",
       "    <tr>\n",
       "      <th>755</th>\n",
       "      <td>Juanma Cifuentes</td>\n",
       "      <td>El súper</td>\n",
       "      <td>Serie de TV</td>\n",
       "      <td>1999</td>\n",
       "      <td>1 episodio</td>\n",
       "    </tr>\n",
       "    <tr>\n",
       "      <th>756</th>\n",
       "      <td>Juanma Cifuentes</td>\n",
       "      <td>Manos a la obra</td>\n",
       "      <td>Serie de TV</td>\n",
       "      <td>1999</td>\n",
       "      <td>1 episodio</td>\n",
       "    </tr>\n",
       "    <tr>\n",
       "      <th>757</th>\n",
       "      <td>Juanma Cifuentes</td>\n",
       "      <td>La casa de los líos</td>\n",
       "      <td>Serie de TV</td>\n",
       "      <td>1998</td>\n",
       "      <td>1 episodio</td>\n",
       "    </tr>\n",
       "    <tr>\n",
       "      <th>758</th>\n",
       "      <td>Juanma Cifuentes</td>\n",
       "      <td>Quince</td>\n",
       "      <td>no hay info</td>\n",
       "      <td>1998</td>\n",
       "      <td>no hay info</td>\n",
       "    </tr>\n",
       "  </tbody>\n",
       "</table>\n",
       "<p>759 rows × 5 columns</p>\n",
       "</div>"
      ],
      "text/plain": [
       "                  actor               titulo             tipo        año  \\\n",
       "0     DANIEL ALBALADEJO        Alumbramiento            Corto       2022   \n",
       "1     DANIEL ALBALADEJO   La noche más larga  Miniserie de TV       2022   \n",
       "2     DANIEL ALBALADEJO      Cinco estrellas            Corto       2021   \n",
       "3     DANIEL ALBALADEJO               El Cid      Serie de TV  2020–2021   \n",
       "4     DANIEL ALBALADEJO               Oculto            Corto       2021   \n",
       "..                  ...                  ...              ...        ...   \n",
       "754   Juanma Cifuentes          Menos es más      no hay info       2000   \n",
       "755   Juanma Cifuentes              El súper      Serie de TV       1999   \n",
       "756   Juanma Cifuentes       Manos a la obra      Serie de TV       1999   \n",
       "757   Juanma Cifuentes   La casa de los líos      Serie de TV       1998   \n",
       "758   Juanma Cifuentes                Quince      no hay info       1998   \n",
       "\n",
       "        episodios  \n",
       "0     no hay info  \n",
       "1     6 episodios  \n",
       "2     no hay info  \n",
       "3    10 episodios  \n",
       "4     no hay info  \n",
       "..            ...  \n",
       "754   no hay info  \n",
       "755    1 episodio  \n",
       "756    1 episodio  \n",
       "757    1 episodio  \n",
       "758   no hay info  \n",
       "\n",
       "[759 rows x 5 columns]"
      ]
     },
     "execution_count": 399,
     "metadata": {},
     "output_type": "execute_result"
    }
   ],
   "source": [
    "df_trabajos = pd.DataFrame(dicc)\n",
    "# df_trabajos[\"trabajos\"] = df_trabajos[\"trabajos\"].str.split(\"\\n\")\n",
    "df_trabajos"
   ]
  },
  {
   "cell_type": "code",
   "execution_count": 405,
   "metadata": {},
   "outputs": [],
   "source": [
    "df_trabajos.to_csv(\"../data/imdb.csv\")"
   ]
  }
 ],
 "metadata": {
  "kernelspec": {
   "display_name": "Ironhack",
   "language": "python",
   "name": "python3"
  },
  "language_info": {
   "codemirror_mode": {
    "name": "ipython",
    "version": 3
   },
   "file_extension": ".py",
   "mimetype": "text/x-python",
   "name": "python",
   "nbconvert_exporter": "python",
   "pygments_lexer": "ipython3",
   "version": "3.9.13"
  },
  "orig_nbformat": 4
 },
 "nbformat": 4,
 "nbformat_minor": 2
}
